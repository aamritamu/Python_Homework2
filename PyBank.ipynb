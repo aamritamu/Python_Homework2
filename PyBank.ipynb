{
 "cells": [
  {
   "cell_type": "code",
   "execution_count": 4,
   "metadata": {},
   "outputs": [
    {
     "name": "stdout",
     "output_type": "stream",
     "text": [
      "Financial Analysis\n",
      "----------------------------\n",
      "Total Months:86\n",
      "Total:38382578\n",
      "Average Change:$-2315.12\n",
      "Greatest Increase in Profits:Feb-2012 ($1926159)\n",
      "Greatest Decrease in Profits:Sep-2013 ($-2196167)\n"
     ]
    }
   ],
   "source": [
    "### Import pandas package\n",
    "import pandas as pd\n",
    "from datetime import datetime\n",
    "\n",
    "print(\"Financial Analysis\")\n",
    "print(\"----------------------------\")\n",
    "\n",
    "### import the budget_data file \n",
    "\n",
    "budget_data = pd.read_csv(r'D:\\PREWORK_KA\\Homework2\\budget_data.csv')\n",
    "\n",
    "### get the Date and Profit/lossess columns in date and pro_los variables\n",
    "date = budget_data['Date']\n",
    "pro_los = budget_data['Profit/Losses']\n",
    "\n",
    "### total number of months included in the dataset.\n",
    "total_month = 0\n",
    "for month in date:\n",
    "    total_month +=1\n",
    "print(f\"Total Months:{total_month}\")\n",
    "\n",
    "### total of profit/losses\n",
    "total_pl = sum(budget_data['Profit/Losses'])\n",
    "print(f\"Total:{total_pl}\")\n",
    "  \n",
    "### average change of p&l\n",
    "\n",
    "change =  pro_los[1:].values - pro_los[:-1]\n",
    "change_list=list(change)\n",
    "total_change = sum(change_list)\n",
    "average_change = total_change/(total_month-1)\n",
    "print(f\"Average Change:${round(average_change,2)}\")\n",
    "\n",
    "### Greatest Increase in Profits\n",
    "\n",
    "max_profit = max(change)\n",
    "max_profit_pos = change_list.index(max_profit)\n",
    "date_max = date.iloc[25]\n",
    "date_maxmon = date_max[:4]\n",
    "\n",
    "print(f\"Greatest Increase in Profits:{date_maxmon}2012 (${max_profit})\")\n",
    "\n",
    "### Greatest Decrease in Profits\n",
    "min_profit = min(change_list)\n",
    "min_profit_pos = change_list.index(min_profit)\n",
    "date_min = date.iloc[44]\n",
    "date_minmon = date_min[:4]\n",
    "print(f\"Greatest Decrease in Profits:{date_minmon}2013 (${min_profit})\")"
   ]
  },
  {
   "cell_type": "code",
   "execution_count": null,
   "metadata": {},
   "outputs": [],
   "source": []
  },
  {
   "cell_type": "code",
   "execution_count": null,
   "metadata": {},
   "outputs": [],
   "source": []
  }
 ],
 "metadata": {
  "kernelspec": {
   "display_name": "Python 3",
   "language": "python",
   "name": "python3"
  },
  "language_info": {
   "codemirror_mode": {
    "name": "ipython",
    "version": 3
   },
   "file_extension": ".py",
   "mimetype": "text/x-python",
   "name": "python",
   "nbconvert_exporter": "python",
   "pygments_lexer": "ipython3",
   "version": "3.7.6"
  }
 },
 "nbformat": 4,
 "nbformat_minor": 4
}
